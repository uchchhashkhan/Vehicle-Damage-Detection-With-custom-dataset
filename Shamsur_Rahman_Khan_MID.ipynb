{
  "nbformat": 4,
  "nbformat_minor": 0,
  "metadata": {
    "colab": {
      "provenance": []
    },
    "kernelspec": {
      "name": "python3",
      "display_name": "Python 3"
    },
    "language_info": {
      "name": "python"
    }
  },
  "cells": [
    {
      "cell_type": "markdown",
      "source": [],
      "metadata": {
        "id": "CbL79RR0Dpz1"
      }
    },
    {
      "cell_type": "markdown",
      "source": [
        "**Write a Python Program to Swap Two Elements in a List (5 Marks)**\n",
        "```python\n",
        "Input : List = [23, 65, 19, 90], pos1 = 1, pos2 = 3\n",
        "Output : [19, 65, 23, 90]\n",
        "Input : List = [1, 2, 3, 4, 5], pos1 = 2, pos2 = 5\n",
        "Output : [1, 5, 3, 4, 2]\n",
        "```"
      ],
      "metadata": {
        "id": "Ds1TFRpzEFwc"
      }
    },
    {
      "cell_type": "code",
      "source": [
        "def swap(lst, pos1, pos2):\n",
        "    if pos1 < 1 or pos2 < 1 or pos1 > len(lst) or pos2 > len(lst):\n",
        "        print(\"Invalid\")\n",
        "        return\n",
        "\n",
        "    pos1 -= 1\n",
        "    pos2 -= 1\n",
        "    lst[pos1], lst[pos2] = lst[pos2], lst[pos1]\n",
        "\n",
        "    print(\"Output:\", lst)\n",
        "\n",
        "list1 = [23, 65, 19, 90]\n",
        "position1 = 1\n",
        "position2 = 3\n",
        "print(\"Input :\", list1, \"pos1 =\", position1, \"pos2 =\", position2)\n",
        "swap(list1, position1, position2)\n",
        "\n",
        "list2 = [1, 2, 3, 4, 5]\n",
        "position3 = 2\n",
        "position4 = 5\n",
        "print(\"Input :\", list2, \"pos1 =\", position3, \"pos2 =\", position4)\n",
        "swap(list2, position3, position4)\n"
      ],
      "metadata": {
        "colab": {
          "base_uri": "https://localhost:8080/"
        },
        "id": "VgDe3kFgwOgJ",
        "outputId": "c2bbf12f-c28c-416f-afaf-39891c622da8"
      },
      "execution_count": 2,
      "outputs": [
        {
          "output_type": "stream",
          "name": "stdout",
          "text": [
            "Input : [23, 65, 19, 90] pos1 = 1 pos2 = 3\n",
            "Output: [19, 65, 23, 90]\n",
            "Input : [1, 2, 3, 4, 5] pos1 = 2 pos2 = 5\n",
            "Output: [1, 5, 3, 4, 2]\n"
          ]
        }
      ]
    },
    {
      "cell_type": "code",
      "source": [],
      "metadata": {
        "id": "WZyhmvKRwPYX"
      },
      "execution_count": null,
      "outputs": []
    }
  ]
}